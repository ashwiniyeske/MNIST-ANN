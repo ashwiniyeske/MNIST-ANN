{
 "cells": [
  {
   "cell_type": "code",
   "execution_count": 1,
   "id": "3818bc41",
   "metadata": {
    "_cell_guid": "b1076dfc-b9ad-4769-8c92-a6c4dae69d19",
    "_uuid": "8f2839f25d086af736a60e9eeb907d3b93b6e0e5",
    "execution": {
     "iopub.execute_input": "2023-09-16T10:06:14.587463Z",
     "iopub.status.busy": "2023-09-16T10:06:14.587091Z",
     "iopub.status.idle": "2023-09-16T10:06:14.876576Z",
     "shell.execute_reply": "2023-09-16T10:06:14.875700Z"
    },
    "papermill": {
     "duration": 0.299378,
     "end_time": "2023-09-16T10:06:14.879252",
     "exception": false,
     "start_time": "2023-09-16T10:06:14.579874",
     "status": "completed"
    },
    "tags": []
   },
   "outputs": [],
   "source": [
    "# This Python 3 environment comes with many helpful analytics libraries installed\n",
    "# It is defined by the kaggle/python Docker image: https://github.com/kaggle/docker-python\n",
    "# For example, here's several helpful packages to load\n",
    "\n",
    "import numpy as np # linear algebra\n",
    "import pandas as pd # data processing, CSV file I/O (e.g. pd.read_csv)\n",
    "\n",
    "# Input data files are available in the read-only \"../input/\" directory\n",
    "# For example, running this (by clicking run or pressing Shift+Enter) will list all files under the input directory\n",
    "\n",
    "import os\n",
    "for dirname, _, filenames in os.walk('/kaggle/input'):\n",
    "    for filename in filenames:\n",
    "        print(os.path.join(dirname, filename))\n",
    "\n",
    "# You can write up to 20GB to the current directory (/kaggle/working/) that gets preserved as output when you create a version using \"Save & Run All\" \n",
    "# You can also write temporary files to /kaggle/temp/, but they won't be saved outside of the current session"
   ]
  },
  {
   "cell_type": "markdown",
   "id": "5c3e968a",
   "metadata": {
    "papermill": {
     "duration": 0.005407,
     "end_time": "2023-09-16T10:06:14.890237",
     "exception": false,
     "start_time": "2023-09-16T10:06:14.884830",
     "status": "completed"
    },
    "tags": []
   },
   "source": [
    "# step1. Import libraries"
   ]
  },
  {
   "cell_type": "code",
   "execution_count": 2,
   "id": "a1f6b071",
   "metadata": {
    "execution": {
     "iopub.execute_input": "2023-09-16T10:06:14.902923Z",
     "iopub.status.busy": "2023-09-16T10:06:14.902448Z",
     "iopub.status.idle": "2023-09-16T10:06:23.829983Z",
     "shell.execute_reply": "2023-09-16T10:06:23.828968Z"
    },
    "papermill": {
     "duration": 8.936852,
     "end_time": "2023-09-16T10:06:23.832357",
     "exception": false,
     "start_time": "2023-09-16T10:06:14.895505",
     "status": "completed"
    },
    "tags": []
   },
   "outputs": [],
   "source": [
    "import tensorflow as tf\n",
    "import keras\n",
    "from keras.datasets import mnist\n",
    "\n",
    "from keras.models import Sequential\n",
    "from keras.layers import Dense,Flatten"
   ]
  },
  {
   "cell_type": "markdown",
   "id": "91831a60",
   "metadata": {
    "papermill": {
     "duration": 0.004999,
     "end_time": "2023-09-16T10:06:23.843055",
     "exception": false,
     "start_time": "2023-09-16T10:06:23.838056",
     "status": "completed"
    },
    "tags": []
   },
   "source": [
    "# step2.Read the dataset"
   ]
  },
  {
   "cell_type": "code",
   "execution_count": 3,
   "id": "e8b5fe62",
   "metadata": {
    "execution": {
     "iopub.execute_input": "2023-09-16T10:06:23.855394Z",
     "iopub.status.busy": "2023-09-16T10:06:23.854745Z",
     "iopub.status.idle": "2023-09-16T10:06:24.209980Z",
     "shell.execute_reply": "2023-09-16T10:06:24.208399Z"
    },
    "papermill": {
     "duration": 0.364693,
     "end_time": "2023-09-16T10:06:24.212715",
     "exception": false,
     "start_time": "2023-09-16T10:06:23.848022",
     "status": "completed"
    },
    "tags": []
   },
   "outputs": [
    {
     "name": "stdout",
     "output_type": "stream",
     "text": [
      "Downloading data from https://storage.googleapis.com/tensorflow/tf-keras-datasets/mnist.npz\n",
      "11490434/11490434 [==============================] - 0s 0us/step\n"
     ]
    }
   ],
   "source": [
    "(x_train,y_train),(x_test,y_test)=mnist.load_data()"
   ]
  },
  {
   "cell_type": "code",
   "execution_count": 4,
   "id": "02a99726",
   "metadata": {
    "execution": {
     "iopub.execute_input": "2023-09-16T10:06:24.226627Z",
     "iopub.status.busy": "2023-09-16T10:06:24.225636Z",
     "iopub.status.idle": "2023-09-16T10:06:24.230436Z",
     "shell.execute_reply": "2023-09-16T10:06:24.229788Z"
    },
    "papermill": {
     "duration": 0.013845,
     "end_time": "2023-09-16T10:06:24.232371",
     "exception": false,
     "start_time": "2023-09-16T10:06:24.218526",
     "status": "completed"
    },
    "tags": []
   },
   "outputs": [],
   "source": [
    "num_classes=10"
   ]
  },
  {
   "cell_type": "markdown",
   "id": "9e3d9279",
   "metadata": {
    "papermill": {
     "duration": 0.005225,
     "end_time": "2023-09-16T10:06:24.243285",
     "exception": false,
     "start_time": "2023-09-16T10:06:24.238060",
     "status": "completed"
    },
    "tags": []
   },
   "source": [
    "# step3. ANN model(development)"
   ]
  },
  {
   "cell_type": "code",
   "execution_count": 5,
   "id": "e176ec0f",
   "metadata": {
    "execution": {
     "iopub.execute_input": "2023-09-16T10:06:24.256178Z",
     "iopub.status.busy": "2023-09-16T10:06:24.255805Z",
     "iopub.status.idle": "2023-09-16T10:06:24.427241Z",
     "shell.execute_reply": "2023-09-16T10:06:24.426533Z"
    },
    "papermill": {
     "duration": 0.180593,
     "end_time": "2023-09-16T10:06:24.429466",
     "exception": false,
     "start_time": "2023-09-16T10:06:24.248873",
     "status": "completed"
    },
    "tags": []
   },
   "outputs": [],
   "source": [
    "model=Sequential()\n",
    "model.add(Flatten(input_shape=(28,28)))\n",
    "model.add(Dense(128,activation='relu'))\n",
    "model.add(Dense(64,activation='relu'))\n",
    "model.add(Dense(num_classes,activation='softmax'))"
   ]
  },
  {
   "cell_type": "code",
   "execution_count": 6,
   "id": "b3859357",
   "metadata": {
    "execution": {
     "iopub.execute_input": "2023-09-16T10:06:24.442702Z",
     "iopub.status.busy": "2023-09-16T10:06:24.441904Z",
     "iopub.status.idle": "2023-09-16T10:06:24.464168Z",
     "shell.execute_reply": "2023-09-16T10:06:24.462708Z"
    },
    "papermill": {
     "duration": 0.031441,
     "end_time": "2023-09-16T10:06:24.466604",
     "exception": false,
     "start_time": "2023-09-16T10:06:24.435163",
     "status": "completed"
    },
    "tags": []
   },
   "outputs": [
    {
     "name": "stdout",
     "output_type": "stream",
     "text": [
      "Model: \"sequential\"\n",
      "_________________________________________________________________\n",
      " Layer (type)                Output Shape              Param #   \n",
      "=================================================================\n",
      " flatten (Flatten)           (None, 784)               0         \n",
      "                                                                 \n",
      " dense (Dense)               (None, 128)               100480    \n",
      "                                                                 \n",
      " dense_1 (Dense)             (None, 64)                8256      \n",
      "                                                                 \n",
      " dense_2 (Dense)             (None, 10)                650       \n",
      "                                                                 \n",
      "=================================================================\n",
      "Total params: 109,386\n",
      "Trainable params: 109,386\n",
      "Non-trainable params: 0\n",
      "_________________________________________________________________\n"
     ]
    }
   ],
   "source": [
    "model.summary()"
   ]
  },
  {
   "cell_type": "markdown",
   "id": "aecb57bf",
   "metadata": {
    "papermill": {
     "duration": 0.006257,
     "end_time": "2023-09-16T10:06:24.480070",
     "exception": false,
     "start_time": "2023-09-16T10:06:24.473813",
     "status": "completed"
    },
    "tags": []
   },
   "source": [
    "# 4.compile and train the model"
   ]
  },
  {
   "cell_type": "code",
   "execution_count": 7,
   "id": "0262356c",
   "metadata": {
    "execution": {
     "iopub.execute_input": "2023-09-16T10:06:24.494448Z",
     "iopub.status.busy": "2023-09-16T10:06:24.494072Z",
     "iopub.status.idle": "2023-09-16T10:06:24.509094Z",
     "shell.execute_reply": "2023-09-16T10:06:24.508140Z"
    },
    "papermill": {
     "duration": 0.025006,
     "end_time": "2023-09-16T10:06:24.511446",
     "exception": false,
     "start_time": "2023-09-16T10:06:24.486440",
     "status": "completed"
    },
    "tags": []
   },
   "outputs": [],
   "source": [
    "model.compile(loss=\"sparse_categorical_crossentropy\",optimizer=keras.optimizers.Adadelta(),metrics=['accuracy'])"
   ]
  },
  {
   "cell_type": "code",
   "execution_count": 8,
   "id": "249fad2d",
   "metadata": {
    "execution": {
     "iopub.execute_input": "2023-09-16T10:06:24.527042Z",
     "iopub.status.busy": "2023-09-16T10:06:24.526681Z",
     "iopub.status.idle": "2023-09-16T10:07:06.041363Z",
     "shell.execute_reply": "2023-09-16T10:07:06.039910Z"
    },
    "papermill": {
     "duration": 41.525048,
     "end_time": "2023-09-16T10:07:06.043783",
     "exception": false,
     "start_time": "2023-09-16T10:06:24.518735",
     "status": "completed"
    },
    "tags": []
   },
   "outputs": [
    {
     "name": "stdout",
     "output_type": "stream",
     "text": [
      "Epoch 1/20\n",
      "469/469 [==============================] - 2s 4ms/step - loss: 134.6967 - accuracy: 0.1057 - val_loss: 104.9664 - val_accuracy: 0.1151\n",
      "Epoch 2/20\n",
      "469/469 [==============================] - 2s 4ms/step - loss: 84.5612 - accuracy: 0.1399 - val_loss: 66.7430 - val_accuracy: 0.1658\n",
      "Epoch 3/20\n",
      "469/469 [==============================] - 2s 4ms/step - loss: 56.0109 - accuracy: 0.1993 - val_loss: 45.3221 - val_accuracy: 0.2448\n",
      "Epoch 4/20\n",
      "469/469 [==============================] - 2s 4ms/step - loss: 39.5905 - accuracy: 0.2709 - val_loss: 33.2541 - val_accuracy: 0.3153\n",
      "Epoch 5/20\n",
      "469/469 [==============================] - 2s 4ms/step - loss: 30.4000 - accuracy: 0.3389 - val_loss: 26.5235 - val_accuracy: 0.3801\n",
      "Epoch 6/20\n",
      "469/469 [==============================] - 2s 4ms/step - loss: 25.0221 - accuracy: 0.3938 - val_loss: 22.3621 - val_accuracy: 0.4316\n",
      "Epoch 7/20\n",
      "469/469 [==============================] - 2s 4ms/step - loss: 21.5060 - accuracy: 0.4416 - val_loss: 19.4589 - val_accuracy: 0.4709\n",
      "Epoch 8/20\n",
      "469/469 [==============================] - 2s 4ms/step - loss: 18.9768 - accuracy: 0.4807 - val_loss: 17.2571 - val_accuracy: 0.5084\n",
      "Epoch 9/20\n",
      "469/469 [==============================] - 2s 4ms/step - loss: 17.0151 - accuracy: 0.5117 - val_loss: 15.5078 - val_accuracy: 0.5377\n",
      "Epoch 10/20\n",
      "469/469 [==============================] - 2s 4ms/step - loss: 15.4380 - accuracy: 0.5399 - val_loss: 14.0935 - val_accuracy: 0.5648\n",
      "Epoch 11/20\n",
      "469/469 [==============================] - 2s 4ms/step - loss: 14.1524 - accuracy: 0.5648 - val_loss: 12.9382 - val_accuracy: 0.5872\n",
      "Epoch 12/20\n",
      "469/469 [==============================] - 2s 4ms/step - loss: 13.0712 - accuracy: 0.5864 - val_loss: 11.9712 - val_accuracy: 0.6066\n",
      "Epoch 13/20\n",
      "469/469 [==============================] - 2s 3ms/step - loss: 12.1535 - accuracy: 0.6056 - val_loss: 11.1535 - val_accuracy: 0.6257\n",
      "Epoch 14/20\n",
      "469/469 [==============================] - 2s 4ms/step - loss: 11.3713 - accuracy: 0.6223 - val_loss: 10.4641 - val_accuracy: 0.6423\n",
      "Epoch 15/20\n",
      "469/469 [==============================] - 2s 4ms/step - loss: 10.6974 - accuracy: 0.6368 - val_loss: 9.8678 - val_accuracy: 0.6552\n",
      "Epoch 16/20\n",
      "469/469 [==============================] - 2s 3ms/step - loss: 10.1047 - accuracy: 0.6504 - val_loss: 9.3452 - val_accuracy: 0.6653\n",
      "Epoch 17/20\n",
      "469/469 [==============================] - 2s 4ms/step - loss: 9.5838 - accuracy: 0.6629 - val_loss: 8.8880 - val_accuracy: 0.6756\n",
      "Epoch 18/20\n",
      "469/469 [==============================] - 2s 4ms/step - loss: 9.1195 - accuracy: 0.6731 - val_loss: 8.4742 - val_accuracy: 0.6874\n",
      "Epoch 19/20\n",
      "469/469 [==============================] - 2s 4ms/step - loss: 8.7003 - accuracy: 0.6826 - val_loss: 8.1016 - val_accuracy: 0.6953\n",
      "Epoch 20/20\n",
      "469/469 [==============================] - 2s 3ms/step - loss: 8.3212 - accuracy: 0.6913 - val_loss: 7.7677 - val_accuracy: 0.7027\n"
     ]
    },
    {
     "data": {
      "text/plain": [
       "<keras.callbacks.History at 0x7ac645611f60>"
      ]
     },
     "execution_count": 8,
     "metadata": {},
     "output_type": "execute_result"
    }
   ],
   "source": [
    "batch_size=128\n",
    "epochs=20\n",
    "\n",
    "model.fit(x_train,y_train,batch_size=batch_size,epochs=epochs,verbose=1,validation_data=(x_test,y_test))"
   ]
  },
  {
   "cell_type": "markdown",
   "id": "322bde24",
   "metadata": {
    "papermill": {
     "duration": 0.042505,
     "end_time": "2023-09-16T10:07:06.129218",
     "exception": false,
     "start_time": "2023-09-16T10:07:06.086713",
     "status": "completed"
    },
    "tags": []
   },
   "source": [
    "# Evaluate the model"
   ]
  },
  {
   "cell_type": "code",
   "execution_count": 9,
   "id": "5fd9670d",
   "metadata": {
    "execution": {
     "iopub.execute_input": "2023-09-16T10:07:06.269593Z",
     "iopub.status.busy": "2023-09-16T10:07:06.269209Z",
     "iopub.status.idle": "2023-09-16T10:07:06.826930Z",
     "shell.execute_reply": "2023-09-16T10:07:06.825568Z"
    },
    "papermill": {
     "duration": 0.604416,
     "end_time": "2023-09-16T10:07:06.829859",
     "exception": false,
     "start_time": "2023-09-16T10:07:06.225443",
     "status": "completed"
    },
    "tags": []
   },
   "outputs": [
    {
     "name": "stdout",
     "output_type": "stream",
     "text": [
      "313/313 [==============================] - 1s 2ms/step - loss: 7.7677 - accuracy: 0.7027\n",
      "Test Accuracy 0.7027000188827515\n"
     ]
    }
   ],
   "source": [
    "loss,acc=model.evaluate(x_test,y_test)\n",
    "print(\"Test Accuracy\",acc)"
   ]
  },
  {
   "cell_type": "code",
   "execution_count": 10,
   "id": "99567efc",
   "metadata": {
    "execution": {
     "iopub.execute_input": "2023-09-16T10:07:06.917210Z",
     "iopub.status.busy": "2023-09-16T10:07:06.916843Z",
     "iopub.status.idle": "2023-09-16T10:07:07.661846Z",
     "shell.execute_reply": "2023-09-16T10:07:07.660726Z"
    },
    "papermill": {
     "duration": 0.790616,
     "end_time": "2023-09-16T10:07:07.663904",
     "exception": false,
     "start_time": "2023-09-16T10:07:06.873288",
     "status": "completed"
    },
    "tags": []
   },
   "outputs": [
    {
     "name": "stdout",
     "output_type": "stream",
     "text": [
      "313/313 [==============================] - 1s 1ms/step\n"
     ]
    },
    {
     "data": {
      "text/plain": [
       "array([[0.0000000e+00, 0.0000000e+00, 0.0000000e+00, ..., 9.9999994e-01,\n",
       "        0.0000000e+00, 0.0000000e+00],\n",
       "       [1.0460171e-09, 5.7474789e-09, 9.9999994e-01, ..., 0.0000000e+00,\n",
       "        3.2718048e-13, 0.0000000e+00],\n",
       "       [3.3607289e-25, 9.8592125e-02, 5.7990003e-19, ..., 3.8735239e-12,\n",
       "        7.6024342e-18, 1.0556301e-25],\n",
       "       ...,\n",
       "       [0.0000000e+00, 0.0000000e+00, 3.5173121e-34, ..., 2.3932884e-19,\n",
       "        9.9987906e-01, 1.2057370e-04],\n",
       "       [3.5568953e-37, 1.7360521e-31, 2.8366769e-17, ..., 2.8155318e-20,\n",
       "        5.7785527e-08, 1.2893653e-33],\n",
       "       [0.0000000e+00, 0.0000000e+00, 3.5597494e-25, ..., 0.0000000e+00,\n",
       "        3.5240582e-37, 0.0000000e+00]], dtype=float32)"
      ]
     },
     "execution_count": 10,
     "metadata": {},
     "output_type": "execute_result"
    }
   ],
   "source": [
    "predictions=model.predict(x_test)\n",
    "predictions"
   ]
  },
  {
   "cell_type": "code",
   "execution_count": 11,
   "id": "4a7c104b",
   "metadata": {
    "execution": {
     "iopub.execute_input": "2023-09-16T10:07:07.752930Z",
     "iopub.status.busy": "2023-09-16T10:07:07.752569Z",
     "iopub.status.idle": "2023-09-16T10:07:08.307514Z",
     "shell.execute_reply": "2023-09-16T10:07:08.306392Z"
    },
    "papermill": {
     "duration": 0.602462,
     "end_time": "2023-09-16T10:07:08.310014",
     "exception": false,
     "start_time": "2023-09-16T10:07:07.707552",
     "status": "completed"
    },
    "tags": []
   },
   "outputs": [
    {
     "name": "stdout",
     "output_type": "stream",
     "text": [
      "313/313 [==============================] - 0s 1ms/step\n",
      "[7 2 3 ... 8 5 6]\n",
      "[7 2 1 ... 4 5 6]\n"
     ]
    }
   ],
   "source": [
    "import numpy as np\n",
    "predict_prob=model.predict(x_test)\n",
    "predict_classes=np.argmax(predict_prob,axis=1)\n",
    "print(predict_classes)\n",
    "print(y_test)"
   ]
  },
  {
   "cell_type": "code",
   "execution_count": 12,
   "id": "bdd6aa40",
   "metadata": {
    "execution": {
     "iopub.execute_input": "2023-09-16T10:07:08.402249Z",
     "iopub.status.busy": "2023-09-16T10:07:08.401896Z",
     "iopub.status.idle": "2023-09-16T10:07:08.449101Z",
     "shell.execute_reply": "2023-09-16T10:07:08.448017Z"
    },
    "papermill": {
     "duration": 0.096762,
     "end_time": "2023-09-16T10:07:08.451677",
     "exception": false,
     "start_time": "2023-09-16T10:07:08.354915",
     "status": "completed"
    },
    "tags": []
   },
   "outputs": [],
   "source": [
    "model=Sequential()\n",
    "model.add(Flatten(input_shape=(28,28)))\n",
    "model.add(Dense(128,activation='relu'))\n",
    "model.add(Dense(128,activation='relu'))\n",
    "model.add(Dense(num_classes,activation='softmax'))\n"
   ]
  },
  {
   "cell_type": "code",
   "execution_count": 13,
   "id": "64a3d513",
   "metadata": {
    "execution": {
     "iopub.execute_input": "2023-09-16T10:07:08.543777Z",
     "iopub.status.busy": "2023-09-16T10:07:08.543404Z",
     "iopub.status.idle": "2023-09-16T10:07:08.568188Z",
     "shell.execute_reply": "2023-09-16T10:07:08.567056Z"
    },
    "papermill": {
     "duration": 0.073706,
     "end_time": "2023-09-16T10:07:08.570522",
     "exception": false,
     "start_time": "2023-09-16T10:07:08.496816",
     "status": "completed"
    },
    "tags": []
   },
   "outputs": [
    {
     "name": "stdout",
     "output_type": "stream",
     "text": [
      "Model: \"sequential_1\"\n",
      "_________________________________________________________________\n",
      " Layer (type)                Output Shape              Param #   \n",
      "=================================================================\n",
      " flatten_1 (Flatten)         (None, 784)               0         \n",
      "                                                                 \n",
      " dense_3 (Dense)             (None, 128)               100480    \n",
      "                                                                 \n",
      " dense_4 (Dense)             (None, 128)               16512     \n",
      "                                                                 \n",
      " dense_5 (Dense)             (None, 10)                1290      \n",
      "                                                                 \n",
      "=================================================================\n",
      "Total params: 118,282\n",
      "Trainable params: 118,282\n",
      "Non-trainable params: 0\n",
      "_________________________________________________________________\n"
     ]
    }
   ],
   "source": [
    "model.summary()"
   ]
  },
  {
   "cell_type": "code",
   "execution_count": 14,
   "id": "fdc7d4c1",
   "metadata": {
    "execution": {
     "iopub.execute_input": "2023-09-16T10:07:08.664013Z",
     "iopub.status.busy": "2023-09-16T10:07:08.663662Z",
     "iopub.status.idle": "2023-09-16T10:07:08.675299Z",
     "shell.execute_reply": "2023-09-16T10:07:08.674315Z"
    },
    "papermill": {
     "duration": 0.060745,
     "end_time": "2023-09-16T10:07:08.677227",
     "exception": false,
     "start_time": "2023-09-16T10:07:08.616482",
     "status": "completed"
    },
    "tags": []
   },
   "outputs": [],
   "source": [
    "model.compile(loss=\"sparse_categorical_crossentropy\",optimizer=keras.optimizers.Adagrad(),metrics=['accuracy'])"
   ]
  },
  {
   "cell_type": "code",
   "execution_count": 15,
   "id": "cdbfbed4",
   "metadata": {
    "execution": {
     "iopub.execute_input": "2023-09-16T10:07:08.771599Z",
     "iopub.status.busy": "2023-09-16T10:07:08.771261Z",
     "iopub.status.idle": "2023-09-16T10:08:31.029062Z",
     "shell.execute_reply": "2023-09-16T10:08:31.027737Z"
    },
    "papermill": {
     "duration": 82.403392,
     "end_time": "2023-09-16T10:08:31.126840",
     "exception": false,
     "start_time": "2023-09-16T10:07:08.723448",
     "status": "completed"
    },
    "tags": []
   },
   "outputs": [
    {
     "name": "stdout",
     "output_type": "stream",
     "text": [
      "Epoch 1/30\n",
      "469/469 [==============================] - 2s 4ms/step - loss: 6.7580 - accuracy: 0.7645 - val_loss: 3.3371 - val_accuracy: 0.8490\n",
      "Epoch 2/30\n",
      "469/469 [==============================] - 2s 3ms/step - loss: 2.9111 - accuracy: 0.8592 - val_loss: 2.5674 - val_accuracy: 0.8726\n",
      "Epoch 3/30\n",
      "469/469 [==============================] - 2s 3ms/step - loss: 2.2954 - accuracy: 0.8788 - val_loss: 2.1920 - val_accuracy: 0.8859\n",
      "Epoch 4/30\n",
      "469/469 [==============================] - 2s 4ms/step - loss: 1.9483 - accuracy: 0.8904 - val_loss: 1.9706 - val_accuracy: 0.8932\n",
      "Epoch 5/30\n",
      "469/469 [==============================] - 2s 4ms/step - loss: 1.7107 - accuracy: 0.8985 - val_loss: 1.8175 - val_accuracy: 0.8983\n",
      "Epoch 6/30\n",
      "469/469 [==============================] - 2s 4ms/step - loss: 1.5333 - accuracy: 0.9047 - val_loss: 1.7229 - val_accuracy: 0.8992\n",
      "Epoch 7/30\n",
      "469/469 [==============================] - 2s 4ms/step - loss: 1.3992 - accuracy: 0.9096 - val_loss: 1.6277 - val_accuracy: 0.9041\n",
      "Epoch 8/30\n",
      "469/469 [==============================] - 2s 4ms/step - loss: 1.2897 - accuracy: 0.9143 - val_loss: 1.5573 - val_accuracy: 0.9047\n",
      "Epoch 9/30\n",
      "469/469 [==============================] - 2s 4ms/step - loss: 1.1987 - accuracy: 0.9182 - val_loss: 1.5035 - val_accuracy: 0.9070\n",
      "Epoch 10/30\n",
      "469/469 [==============================] - 2s 4ms/step - loss: 1.1240 - accuracy: 0.9213 - val_loss: 1.4432 - val_accuracy: 0.9085\n",
      "Epoch 11/30\n",
      "469/469 [==============================] - 2s 4ms/step - loss: 1.0573 - accuracy: 0.9248 - val_loss: 1.4121 - val_accuracy: 0.9106\n",
      "Epoch 12/30\n",
      "469/469 [==============================] - 2s 4ms/step - loss: 0.9992 - accuracy: 0.9272 - val_loss: 1.3754 - val_accuracy: 0.9130\n",
      "Epoch 13/30\n",
      "469/469 [==============================] - 2s 3ms/step - loss: 0.9471 - accuracy: 0.9291 - val_loss: 1.3312 - val_accuracy: 0.9137\n",
      "Epoch 14/30\n",
      "469/469 [==============================] - 2s 3ms/step - loss: 0.9007 - accuracy: 0.9313 - val_loss: 1.3071 - val_accuracy: 0.9139\n",
      "Epoch 15/30\n",
      "469/469 [==============================] - 2s 4ms/step - loss: 0.8581 - accuracy: 0.9330 - val_loss: 1.2818 - val_accuracy: 0.9149\n",
      "Epoch 16/30\n",
      "469/469 [==============================] - 2s 4ms/step - loss: 0.8186 - accuracy: 0.9347 - val_loss: 1.2672 - val_accuracy: 0.9163\n",
      "Epoch 17/30\n",
      "469/469 [==============================] - 2s 4ms/step - loss: 0.7835 - accuracy: 0.9373 - val_loss: 1.2359 - val_accuracy: 0.9186\n",
      "Epoch 18/30\n",
      "469/469 [==============================] - 2s 4ms/step - loss: 0.7525 - accuracy: 0.9389 - val_loss: 1.2177 - val_accuracy: 0.9189\n",
      "Epoch 19/30\n",
      "469/469 [==============================] - 2s 4ms/step - loss: 0.7229 - accuracy: 0.9399 - val_loss: 1.1987 - val_accuracy: 0.9207\n",
      "Epoch 20/30\n",
      "469/469 [==============================] - 2s 4ms/step - loss: 0.6951 - accuracy: 0.9423 - val_loss: 1.1892 - val_accuracy: 0.9209\n",
      "Epoch 21/30\n",
      "469/469 [==============================] - 2s 4ms/step - loss: 0.6714 - accuracy: 0.9433 - val_loss: 1.1710 - val_accuracy: 0.9215\n",
      "Epoch 22/30\n",
      "469/469 [==============================] - 2s 4ms/step - loss: 0.6475 - accuracy: 0.9441 - val_loss: 1.1564 - val_accuracy: 0.9217\n",
      "Epoch 23/30\n",
      "469/469 [==============================] - 2s 4ms/step - loss: 0.6259 - accuracy: 0.9458 - val_loss: 1.1451 - val_accuracy: 0.9230\n",
      "Epoch 24/30\n",
      "469/469 [==============================] - 2s 4ms/step - loss: 0.6059 - accuracy: 0.9469 - val_loss: 1.1352 - val_accuracy: 0.9225\n",
      "Epoch 25/30\n",
      "469/469 [==============================] - 2s 4ms/step - loss: 0.5869 - accuracy: 0.9481 - val_loss: 1.1196 - val_accuracy: 0.9230\n",
      "Epoch 26/30\n",
      "469/469 [==============================] - 2s 4ms/step - loss: 0.5695 - accuracy: 0.9491 - val_loss: 1.1128 - val_accuracy: 0.9223\n",
      "Epoch 27/30\n",
      "469/469 [==============================] - 2s 4ms/step - loss: 0.5527 - accuracy: 0.9507 - val_loss: 1.1002 - val_accuracy: 0.9227\n",
      "Epoch 28/30\n",
      "469/469 [==============================] - 2s 4ms/step - loss: 0.5372 - accuracy: 0.9513 - val_loss: 1.0942 - val_accuracy: 0.9233\n",
      "Epoch 29/30\n",
      "469/469 [==============================] - 2s 4ms/step - loss: 0.5220 - accuracy: 0.9520 - val_loss: 1.0805 - val_accuracy: 0.9238\n",
      "Epoch 30/30\n",
      "469/469 [==============================] - 2s 3ms/step - loss: 0.5086 - accuracy: 0.9528 - val_loss: 1.0739 - val_accuracy: 0.9238\n"
     ]
    },
    {
     "data": {
      "text/plain": [
       "<keras.callbacks.History at 0x7ac6444c59f0>"
      ]
     },
     "execution_count": 15,
     "metadata": {},
     "output_type": "execute_result"
    }
   ],
   "source": [
    "batch_size=128\n",
    "epochs=30\n",
    "\n",
    "model.fit(x_train,y_train,batch_size=batch_size,epochs=epochs,verbose=1,validation_data=(x_test,y_test))"
   ]
  },
  {
   "cell_type": "code",
   "execution_count": 16,
   "id": "d617bccd",
   "metadata": {
    "execution": {
     "iopub.execute_input": "2023-09-16T10:08:31.324535Z",
     "iopub.status.busy": "2023-09-16T10:08:31.324231Z",
     "iopub.status.idle": "2023-09-16T10:08:31.867786Z",
     "shell.execute_reply": "2023-09-16T10:08:31.866745Z"
    },
    "papermill": {
     "duration": 0.646254,
     "end_time": "2023-09-16T10:08:31.869469",
     "exception": false,
     "start_time": "2023-09-16T10:08:31.223215",
     "status": "completed"
    },
    "tags": []
   },
   "outputs": [
    {
     "name": "stdout",
     "output_type": "stream",
     "text": [
      "313/313 [==============================] - 0s 2ms/step - loss: 1.0739 - accuracy: 0.9238\n",
      "Test Accuracy 0.923799991607666\n"
     ]
    }
   ],
   "source": [
    "loss,acc=model.evaluate(x_test,y_test)\n",
    "print(\"Test Accuracy\",acc)"
   ]
  },
  {
   "cell_type": "code",
   "execution_count": 17,
   "id": "db9ee846",
   "metadata": {
    "execution": {
     "iopub.execute_input": "2023-09-16T10:08:32.070948Z",
     "iopub.status.busy": "2023-09-16T10:08:32.070578Z",
     "iopub.status.idle": "2023-09-16T10:08:32.110952Z",
     "shell.execute_reply": "2023-09-16T10:08:32.110084Z"
    },
    "papermill": {
     "duration": 0.142817,
     "end_time": "2023-09-16T10:08:32.113447",
     "exception": false,
     "start_time": "2023-09-16T10:08:31.970630",
     "status": "completed"
    },
    "tags": []
   },
   "outputs": [],
   "source": [
    "model=Sequential()\n",
    "model.add(Flatten(input_shape=(28,28)))\n",
    "model.add(Dense(128,activation='relu'))\n",
    "model.add(Dense(128,activation='relu'))\n",
    "model.add(Dense(num_classes,activation='softmax'))\n"
   ]
  },
  {
   "cell_type": "code",
   "execution_count": 18,
   "id": "cab0c084",
   "metadata": {
    "execution": {
     "iopub.execute_input": "2023-09-16T10:08:32.316010Z",
     "iopub.status.busy": "2023-09-16T10:08:32.315585Z",
     "iopub.status.idle": "2023-09-16T10:08:32.338220Z",
     "shell.execute_reply": "2023-09-16T10:08:32.337466Z"
    },
    "papermill": {
     "duration": 0.126478,
     "end_time": "2023-09-16T10:08:32.340260",
     "exception": false,
     "start_time": "2023-09-16T10:08:32.213782",
     "status": "completed"
    },
    "tags": []
   },
   "outputs": [
    {
     "name": "stdout",
     "output_type": "stream",
     "text": [
      "Model: \"sequential_2\"\n",
      "_________________________________________________________________\n",
      " Layer (type)                Output Shape              Param #   \n",
      "=================================================================\n",
      " flatten_2 (Flatten)         (None, 784)               0         \n",
      "                                                                 \n",
      " dense_6 (Dense)             (None, 128)               100480    \n",
      "                                                                 \n",
      " dense_7 (Dense)             (None, 128)               16512     \n",
      "                                                                 \n",
      " dense_8 (Dense)             (None, 10)                1290      \n",
      "                                                                 \n",
      "=================================================================\n",
      "Total params: 118,282\n",
      "Trainable params: 118,282\n",
      "Non-trainable params: 0\n",
      "_________________________________________________________________\n"
     ]
    }
   ],
   "source": [
    "model.summary()"
   ]
  },
  {
   "cell_type": "code",
   "execution_count": 19,
   "id": "d533f2e1",
   "metadata": {
    "execution": {
     "iopub.execute_input": "2023-09-16T10:08:32.540793Z",
     "iopub.status.busy": "2023-09-16T10:08:32.540415Z",
     "iopub.status.idle": "2023-09-16T10:08:32.552270Z",
     "shell.execute_reply": "2023-09-16T10:08:32.551230Z"
    },
    "papermill": {
     "duration": 0.11468,
     "end_time": "2023-09-16T10:08:32.554375",
     "exception": false,
     "start_time": "2023-09-16T10:08:32.439695",
     "status": "completed"
    },
    "tags": []
   },
   "outputs": [],
   "source": [
    "model.compile(loss=\"sparse_categorical_crossentropy\",optimizer=keras.optimizers.Adagrad(),metrics=['accuracy'])"
   ]
  },
  {
   "cell_type": "code",
   "execution_count": 20,
   "id": "6e9fe6c7",
   "metadata": {
    "execution": {
     "iopub.execute_input": "2023-09-16T10:08:32.758782Z",
     "iopub.status.busy": "2023-09-16T10:08:32.758380Z",
     "iopub.status.idle": "2023-09-16T10:08:52.530513Z",
     "shell.execute_reply": "2023-09-16T10:08:52.529257Z"
    },
    "papermill": {
     "duration": 19.876624,
     "end_time": "2023-09-16T10:08:52.532562",
     "exception": false,
     "start_time": "2023-09-16T10:08:32.655938",
     "status": "completed"
    },
    "tags": []
   },
   "outputs": [
    {
     "name": "stdout",
     "output_type": "stream",
     "text": [
      "Epoch 1/10\n",
      "469/469 [==============================] - 2s 4ms/step - loss: 5.9298 - accuracy: 0.7759 - val_loss: 3.0261 - val_accuracy: 0.8437\n",
      "Epoch 2/10\n",
      "469/469 [==============================] - 2s 4ms/step - loss: 2.4740 - accuracy: 0.8645 - val_loss: 2.2673 - val_accuracy: 0.8687\n",
      "Epoch 3/10\n",
      "469/469 [==============================] - 2s 4ms/step - loss: 1.9137 - accuracy: 0.8847 - val_loss: 1.9263 - val_accuracy: 0.8796\n",
      "Epoch 4/10\n",
      "469/469 [==============================] - 2s 4ms/step - loss: 1.6108 - accuracy: 0.8946 - val_loss: 1.7384 - val_accuracy: 0.8885\n",
      "Epoch 5/10\n",
      "469/469 [==============================] - 2s 4ms/step - loss: 1.4101 - accuracy: 0.9041 - val_loss: 1.6084 - val_accuracy: 0.8937\n",
      "Epoch 6/10\n",
      "469/469 [==============================] - 2s 4ms/step - loss: 1.2641 - accuracy: 0.9100 - val_loss: 1.5022 - val_accuracy: 0.8967\n",
      "Epoch 7/10\n",
      "469/469 [==============================] - 2s 4ms/step - loss: 1.1544 - accuracy: 0.9150 - val_loss: 1.4365 - val_accuracy: 0.9005\n",
      "Epoch 8/10\n",
      "469/469 [==============================] - 2s 4ms/step - loss: 1.0631 - accuracy: 0.9197 - val_loss: 1.3734 - val_accuracy: 0.9036\n",
      "Epoch 9/10\n",
      "469/469 [==============================] - 2s 4ms/step - loss: 0.9883 - accuracy: 0.9234 - val_loss: 1.3339 - val_accuracy: 0.9049\n",
      "Epoch 10/10\n",
      "469/469 [==============================] - 2s 4ms/step - loss: 0.9250 - accuracy: 0.9264 - val_loss: 1.2848 - val_accuracy: 0.9069\n"
     ]
    },
    {
     "data": {
      "text/plain": [
       "<keras.callbacks.History at 0x7ac6380de410>"
      ]
     },
     "execution_count": 20,
     "metadata": {},
     "output_type": "execute_result"
    }
   ],
   "source": [
    "batch_size=128\n",
    "epochs=10\n",
    "\n",
    "model.fit(x_train,y_train,batch_size=batch_size,epochs=epochs,verbose=1,validation_data=(x_test,y_test))"
   ]
  },
  {
   "cell_type": "code",
   "execution_count": 21,
   "id": "d92d1bbb",
   "metadata": {
    "execution": {
     "iopub.execute_input": "2023-09-16T10:08:52.770788Z",
     "iopub.status.busy": "2023-09-16T10:08:52.770424Z",
     "iopub.status.idle": "2023-09-16T10:08:53.327182Z",
     "shell.execute_reply": "2023-09-16T10:08:53.325726Z"
    },
    "papermill": {
     "duration": 0.677512,
     "end_time": "2023-09-16T10:08:53.329109",
     "exception": false,
     "start_time": "2023-09-16T10:08:52.651597",
     "status": "completed"
    },
    "tags": []
   },
   "outputs": [
    {
     "name": "stdout",
     "output_type": "stream",
     "text": [
      "313/313 [==============================] - 1s 2ms/step - loss: 1.2848 - accuracy: 0.9069\n",
      "Test Accuracy 0.9068999886512756\n"
     ]
    }
   ],
   "source": [
    "loss,acc=model.evaluate(x_test,y_test)\n",
    "print(\"Test Accuracy\",acc)"
   ]
  }
 ],
 "metadata": {
  "kernelspec": {
   "display_name": "Python 3",
   "language": "python",
   "name": "python3"
  },
  "language_info": {
   "codemirror_mode": {
    "name": "ipython",
    "version": 3
   },
   "file_extension": ".py",
   "mimetype": "text/x-python",
   "name": "python",
   "nbconvert_exporter": "python",
   "pygments_lexer": "ipython3",
   "version": "3.10.12"
  },
  "papermill": {
   "default_parameters": {},
   "duration": 164.283404,
   "end_time": "2023-09-16T10:08:55.924264",
   "environment_variables": {},
   "exception": null,
   "input_path": "__notebook__.ipynb",
   "output_path": "__notebook__.ipynb",
   "parameters": {},
   "start_time": "2023-09-16T10:06:11.640860",
   "version": "2.4.0"
  }
 },
 "nbformat": 4,
 "nbformat_minor": 5
}
